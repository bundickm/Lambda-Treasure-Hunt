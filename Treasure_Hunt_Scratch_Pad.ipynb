{
  "nbformat": 4,
  "nbformat_minor": 0,
  "metadata": {
    "colab": {
      "name": "Treasure Hunt Scratch Pad.ipynb",
      "provenance": [],
      "collapsed_sections": [],
      "include_colab_link": true
    },
    "kernelspec": {
      "name": "python3",
      "display_name": "Python 3"
    }
  },
  "cells": [
    {
      "cell_type": "markdown",
      "metadata": {
        "id": "view-in-github",
        "colab_type": "text"
      },
      "source": [
        "<a href=\"https://colab.research.google.com/github/bundickm/Lambda-Treasure-Hunt/blob/master/Treasure_Hunt_Scratch_Pad.ipynb\" target=\"_parent\"><img src=\"https://colab.research.google.com/assets/colab-badge.svg\" alt=\"Open In Colab\"/></a>"
      ]
    },
    {
      "cell_type": "code",
      "metadata": {
        "id": "xQzGDkUmmtFE",
        "colab_type": "code",
        "colab": {}
      },
      "source": [
        "import requests\n",
        "from random import choice\n",
        "from time import sleep\n",
        "import json\n",
        "\n",
        "api_key = '056a437a5b897e5082708ef06ce43b2d38e96ec1'\n",
        "url_base = 'https://lambda-treasure-hunt.herokuapp.com/api/adv/'\n",
        "headers = {'Content-Type': 'application/json',\n",
        "           'Authorization': 'Token ' + api_key} "
      ],
      "execution_count": 0,
      "outputs": []
    },
    {
      "cell_type": "code",
      "metadata": {
        "id": "N9cKXpEZEWMT",
        "colab_type": "code",
        "colab": {}
      },
      "source": [
        "def get_init():\n",
        "  response = requests.get(url_base + 'init', headers=headers)\n",
        "  status_code = response.status_code\n",
        "\n",
        "  if status_code is not 200:\n",
        "    return ('Unsuccessful Connection, Status Code:', status_code)\n",
        "  return response.json()"
      ],
      "execution_count": 0,
      "outputs": []
    },
    {
      "cell_type": "code",
      "metadata": {
        "id": "q5cdG7wwKFfC",
        "colab_type": "code",
        "colab": {}
      },
      "source": [
        "def get_status():\n",
        "  response = requests.post(url_base + 'status', headers=headers)\n",
        "  status_code = response.status_code\n",
        "\n",
        "  if status_code is not 200:\n",
        "    return ('Unsuccessful Connection, Status Code:', status_code)\n",
        "  return response.json()"
      ],
      "execution_count": 0,
      "outputs": []
    },
    {
      "cell_type": "code",
      "metadata": {
        "id": "E2sY1JXVPoSw",
        "colab_type": "code",
        "colab": {}
      },
      "source": [
        "def examine(target_json):\n",
        "  response = requests.post(url_base + 'examine', headers=headers, json=target_json)\n",
        "  status_code = response.status_code\n",
        "\n",
        "  if status_code is not 200:\n",
        "    return ('Unsuccessful Connection, Status Code:', status_code)\n",
        "  return response.json()\n",
        "\n",
        "# Examples\n",
        "# examine({'name':'<NAME OF PLAYER OR ITEM>'})\n",
        "# examine({'name':'tiny treasure'})"
      ],
      "execution_count": 0,
      "outputs": []
    },
    {
      "cell_type": "code",
      "metadata": {
        "id": "LfsbHMdXLEk-",
        "colab_type": "code",
        "colab": {}
      },
      "source": [
        "def make_move(move_json):\n",
        "  response = requests.post(url_base + 'move', headers=headers, json=move_json)\n",
        "  status_code = response.status_code\n",
        "\n",
        "  if status_code is not 200:\n",
        "    return ('Unsuccessful Connection, Status Code:', status_code)\n",
        "  return response.json()\n",
        "\n",
        "# Examples\n",
        "# make_move({'direction':'s'})\n",
        "# make_move('{\"direction\":\"s\", \"next_room_id\": \"0\"}')"
      ],
      "execution_count": 0,
      "outputs": []
    },
    {
      "cell_type": "code",
      "metadata": {
        "id": "oDxFDAgbMOBI",
        "colab_type": "code",
        "colab": {}
      },
      "source": [
        "def get_item(item_json):\n",
        "  response = requests.post(url_base + 'take', headers=headers, json=item_json)\n",
        "  status_code = response.status_code\n",
        "\n",
        "  if status_code is not 200:\n",
        "    return ('Unsuccessful Connection, Status Code:', status_code)\n",
        "  return response.json()\n",
        "\n",
        "# Example\n",
        "# get_item({'name':'treasure'})"
      ],
      "execution_count": 0,
      "outputs": []
    },
    {
      "cell_type": "code",
      "metadata": {
        "id": "Qd_e2x2rNEZ9",
        "colab_type": "code",
        "colab": {}
      },
      "source": [
        "def drop_item(item_json):\n",
        "  response = requests.post(url_base + 'drop', headers=headers, json=item_json)\n",
        "  status_code = response.status_code\n",
        "\n",
        "  if status_code is not 200:\n",
        "    return ('Unsuccessful Connection, Status Code:', status_code)\n",
        "  return response.json()"
      ],
      "execution_count": 0,
      "outputs": []
    },
    {
      "cell_type": "code",
      "metadata": {
        "id": "EiP2Vzzdyq23",
        "colab_type": "code",
        "colab": {}
      },
      "source": [
        "def change_name(name):\n",
        "  response = requests.post(url_base + 'change_name', headers=headers, json={'name': name, 'confirm': 'aye'})\n",
        "  status_code = response.status_code\n",
        "\n",
        "  if status_code is not 200:\n",
        "    return ('Unsuccessful Connection, Status Code:', status_code)\n",
        "  return response.json()"
      ],
      "execution_count": 0,
      "outputs": []
    },
    {
      "cell_type": "code",
      "metadata": {
        "id": "w1rnRSN4yKO3",
        "colab_type": "code",
        "colab": {}
      },
      "source": [
        "def shop_check(data):\n",
        "  if data['title'] == 'Shop':\n",
        "      inventory = get_status()['inventory']\n",
        "      for item in inventory:\n",
        "        data = sell_item({'name': item, 'confirm': 'yes'})\n",
        "        print('Sold Item')\n",
        "        sleep(data['cooldown'] + 1)\n",
        "      print('All items sold')\n",
        "  return data"
      ],
      "execution_count": 0,
      "outputs": []
    },
    {
      "cell_type": "code",
      "metadata": {
        "id": "oD3gPaNkO9pP",
        "colab_type": "code",
        "colab": {}
      },
      "source": [
        "def sell_item(item_json):\n",
        "  room_title = get_init()['title']\n",
        "  if room_title != 'Shop':\n",
        "    return 'You must be in the shop to sell items'\n",
        "  sleep(1)\n",
        "  response = requests.post(url_base + 'sell', headers=headers, json=item_json)\n",
        "  status_code = response.status_code\n",
        "\n",
        "  if status_code is not 200:\n",
        "    return ('Unsuccessful Connection, Status Code:', status_code)\n",
        "  return response.json()\n",
        "\n",
        "# Examples\n",
        "# sell_item({'name':'tiny treasure'}) # Will return sell price message but not complete transaction\n",
        "# sell_item({'name':'tiny treasure', 'confirm':'yes'})"
      ],
      "execution_count": 0,
      "outputs": []
    },
    {
      "cell_type": "code",
      "metadata": {
        "id": "6sfHbwUJEfsC",
        "colab_type": "code",
        "colab": {}
      },
      "source": [
        "def extract_room_info(data):\n",
        "  room = {}\n",
        "  room_descriptors = ['title', 'coordinates', 'description',\n",
        "                      'terrain', 'elevation', 'exits', 'items']\n",
        "  for value in room_descriptors:\n",
        "    room[value] = data[value]\n",
        "  \n",
        "  return room\n",
        "\n",
        "# Example\n",
        "# extract_room_info(response.json())"
      ],
      "execution_count": 0,
      "outputs": []
    },
    {
      "cell_type": "code",
      "metadata": {
        "id": "k02ny-PFDDZw",
        "colab_type": "code",
        "colab": {}
      },
      "source": [
        "def mine(proof):\n",
        "    response = requests.post(url_base[:-4] + 'bc/mine', headers=headers, json={'proof': proof})\n",
        "    status_code = response.status_code\n",
        "\n",
        "    if status_code is not 200:\n",
        "      return ('Unsuccessful Connection, Status Code:', status_code)\n",
        "    return response.json()"
      ],
      "execution_count": 0,
      "outputs": []
    },
    {
      "cell_type": "code",
      "metadata": {
        "id": "xyiVjn-MlbTg",
        "colab_type": "code",
        "colab": {}
      },
      "source": [
        "def get_cooldown():\n",
        "  return get_status()['cooldown']"
      ],
      "execution_count": 0,
      "outputs": []
    },
    {
      "cell_type": "code",
      "metadata": {
        "id": "61l_0FSxmYYp",
        "colab_type": "code",
        "colab": {}
      },
      "source": [
        "def make_blank_map(room_count = 500):\n",
        "  rooms = {}\n",
        "  for i in range(room_count):\n",
        "    rooms[i] = {\"n\": None, \"s\": None, \"e\": None, \"w\": None,\n",
        "                \"title\": None, \"terrain\": None, \"elevation\": None,\n",
        "                \"coordinates\": None, \"description\": None}\n",
        "  \n",
        "  return rooms"
      ],
      "execution_count": 0,
      "outputs": []
    },
    {
      "cell_type": "code",
      "metadata": {
        "id": "velJPQfIsSDh",
        "colab_type": "code",
        "colab": {}
      },
      "source": [
        "def find_unvisited_directions(exits, current_room):\n",
        "  unvisited = []\n",
        "  for direction in exits:\n",
        "    if current_room[direction] is None:\n",
        "      unvisited.append(direction)\n",
        "  return unvisited"
      ],
      "execution_count": 0,
      "outputs": []
    },
    {
      "cell_type": "code",
      "metadata": {
        "id": "UDKAfYdaz6j8",
        "colab_type": "code",
        "colab": {}
      },
      "source": [
        "def json_to_file(data, file_name):\n",
        "  print('Saving File...')\n",
        "  with open(file_name, 'w') as outfile:\n",
        "    json.dump(data, outfile)\n",
        "  print('Save Complete')"
      ],
      "execution_count": 0,
      "outputs": []
    },
    {
      "cell_type": "code",
      "metadata": {
        "id": "C9XB_LOidV5m",
        "colab_type": "code",
        "colab": {}
      },
      "source": [
        "def file_to_json(filename):\n",
        "    with open(filename) as json_file:\n",
        "        file = json.load(json_file)\n",
        "    return file"
      ],
      "execution_count": 0,
      "outputs": []
    },
    {
      "cell_type": "code",
      "metadata": {
        "id": "F2D51zFvcSN5",
        "colab_type": "code",
        "colab": {}
      },
      "source": [
        "def pickup_item_check(data):\n",
        "  error = None\n",
        "  while (data['items'] != []) and (not error):\n",
        "    data = get_item({'name': data['items'][0]})\n",
        "    error = data['errors']\n",
        "    if not error:\n",
        "      print('Picked up item')\n",
        "    sleep(data['cooldown']+1)\n",
        "  return data"
      ],
      "execution_count": 0,
      "outputs": []
    },
    {
      "cell_type": "code",
      "metadata": {
        "id": "TD8V-DxkcZhn",
        "colab_type": "code",
        "colab": {}
      },
      "source": [
        "def drop_item_check(data):\n",
        "  status = get_status()\n",
        "  if status['encumbrance'] > status['strength']:\n",
        "    data = drop_item({'name':'treasure'})\n",
        "    print('Dropped Item')\n",
        "    sleep(data['cooldown']+1)\n",
        "  else:\n",
        "    sleep(status['cooldown']+1)\n",
        "\n",
        "  return data"
      ],
      "execution_count": 0,
      "outputs": []
    },
    {
      "cell_type": "code",
      "metadata": {
        "id": "smj31YsfbWHr",
        "colab_type": "code",
        "colab": {}
      },
      "source": [
        "def item_check(data):\n",
        "  data = pickup_item_check(data)\n",
        "  data = drop_item_check(data)\n",
        "  return data"
      ],
      "execution_count": 0,
      "outputs": []
    },
    {
      "cell_type": "code",
      "metadata": {
        "id": "MXvOwD6-o7t6",
        "colab_type": "code",
        "colab": {}
      },
      "source": [
        "map = file_to_json('map.txt')\n",
        "reverse = {'n':'s', 'e':'w', 's':'n', 'w':'e'}\n",
        "backtrack = []\n",
        "rooms_visited = 1\n",
        "data = get_init()\n",
        "rooms = make_blank_map()\n",
        "sleep(data['cooldown']+1)\n",
        "\n",
        "while rooms_visited < 500:\n",
        "  current_room_id = data['room_id']\n",
        "  room_data = extract_room_info(data)\n",
        "  \n",
        "  for key in room_data:\n",
        "    rooms[current_room_id][key] = room_data[key]\n",
        "  \n",
        "  data = shop_check(data)\n",
        "  data = item_check(data)\n",
        "\n",
        "  exits = data['exits']\n",
        "  valid_moves = find_unvisited_directions(exits, rooms[current_room_id])\n",
        "\n",
        "  if valid_moves != []:\n",
        "    move = choice(valid_moves)\n",
        "    data = make_move({'direction': move, \n",
        "                      \"next_room_id\": str(map[str(current_room_id)][move])})\n",
        "    backtrack.append(reverse[move])\n",
        "    rooms[current_room_id][move] = data['room_id']\n",
        "    rooms[data['room_id']][reverse[move]] = current_room_id\n",
        "    rooms_visited += 1\n",
        "    print(rooms_visited)\n",
        "  else:\n",
        "    move = backtrack.pop(-1)\n",
        "    data = make_move({'direction': move, \n",
        "                      'next_room_id': str(map[str(current_room_id)][move])})\n",
        "\n",
        "  sleep(data['cooldown']+1)"
      ],
      "execution_count": 0,
      "outputs": []
    },
    {
      "cell_type": "code",
      "metadata": {
        "colab_type": "code",
        "id": "CSNCMK_2ffwx",
        "colab": {}
      },
      "source": [
        "json_to_file(rooms, 'map.txt')"
      ],
      "execution_count": 0,
      "outputs": []
    },
    {
      "cell_type": "code",
      "metadata": {
        "id": "UOEjHaQDjpFC",
        "colab_type": "code",
        "colab": {}
      },
      "source": [
        "map = file_to_json('full_map.txt')"
      ],
      "execution_count": 0,
      "outputs": []
    },
    {
      "cell_type": "code",
      "metadata": {
        "id": "lWILnntMgBKY",
        "colab_type": "code",
        "colab": {}
      },
      "source": [
        "def find_path(start, end, map):\n",
        "  best = None\n",
        "  if start == end:\n",
        "    return []\n",
        "  while (best is None) or (len(best) > 250):\n",
        "    path = []\n",
        "    current_room = start\n",
        "    while current_room != end:\n",
        "      move = map[current_room][choice(['n','s','e','w'])]\n",
        "      if (move is not None):\n",
        "        if (path == []) or (move != path[-1]):\n",
        "          path.append(current_room)\n",
        "          current_room = str(move)\n",
        "        else:\n",
        "          current_room = path.pop()\n",
        "    path.append(move)\n",
        "    if (best is None) or (len(path) < len(best)):\n",
        "      best = path\n",
        "  return best\n",
        "# path = find_path('431', '0', map)"
      ],
      "execution_count": 0,
      "outputs": []
    },
    {
      "cell_type": "code",
      "metadata": {
        "colab_type": "code",
        "id": "q9i5-qyGg7Zz",
        "outputId": "c5869ace-e545-4385-bd0b-cca0b73c3399",
        "colab": {
          "base_uri": "https://localhost:8080/",
          "height": 254
        }
      },
      "source": [
        "room_names = {room['title'] for room in map.values()}\n",
        "room_names"
      ],
      "execution_count": 0,
      "outputs": [
        {
          "output_type": "execute_result",
          "data": {
            "text/plain": [
              "{'A Dark Cave',\n",
              " 'A brightly lit room',\n",
              " 'A misty room',\n",
              " \"Glasowyn's Grave\",\n",
              " \"Linh's Shrine\",\n",
              " 'Mt. Holloway',\n",
              " None,\n",
              " \"Pirate Ry's\",\n",
              " 'Shop',\n",
              " 'The Peak of Mt. Holloway',\n",
              " 'The Transmogriphier',\n",
              " 'Warp Shrine',\n",
              " 'Wishing Well'}"
            ]
          },
          "metadata": {
            "tags": []
          },
          "execution_count": 24
        }
      ]
    },
    {
      "cell_type": "code",
      "metadata": {
        "id": "rjmSuogFkzf2",
        "colab_type": "code",
        "colab": {}
      },
      "source": [
        "def trim_path(current_room, path):\n",
        "  cut = 0\n",
        "  for i in range(len(path)):\n",
        "    if path[i] == current_room:\n",
        "      cut = i\n",
        "  return path[cut+1:]"
      ],
      "execution_count": 0,
      "outputs": []
    },
    {
      "cell_type": "code",
      "metadata": {
        "id": "LdpJBtMmi6w0",
        "colab_type": "code",
        "colab": {}
      },
      "source": [
        "def get_move(target_room, data, map):\n",
        "  current_room = str(data['room_id'])\n",
        "  exits = data['exits']\n",
        "\n",
        "  for direction in exits:\n",
        "    if map[current_room][direction] == int(target_room):\n",
        "      return direction"
      ],
      "execution_count": 0,
      "outputs": []
    },
    {
      "cell_type": "code",
      "metadata": {
        "id": "i9l-OP33fcHF",
        "colab_type": "code",
        "colab": {}
      },
      "source": [
        "KEY_ROOMS = {\"The Transmogriphier\": 495,\n",
        "             \"The Peak of Mt. Holloway\": 22,\n",
        "             \"Pirate Ry's\": 467,\n",
        "             \"A brightly lit room\": 0,\n",
        "             \"A Dark Cave\": 488,\n",
        "             \"Linh's Shrine\": 461,\n",
        "             \"Glasowyn's Grave\": 499,\n",
        "             \"Wishing Well\": 55,\n",
        "             \"Shop\": 1}\n",
        "\n",
        "def move_to_location(current_room, destination, data, map):\n",
        "  current_room = str(current_room)\n",
        "  destination = str(destination)\n",
        "\n",
        "  path = find_path(current_room, destination, map)\n",
        "  while len(path) > 1:\n",
        "    print('path length:', len(path))\n",
        "    path = trim_path(current_room, path)\n",
        "    print('trimmed length:',len(path))\n",
        "    print(path[:5])\n",
        "    move = str(get_move(path[0], data, map))\n",
        "    data = make_move({'direction': move,\n",
        "                      'next_room_id': str(map[current_room][move])})\n",
        "\n",
        "    current_room = str(data['room_id'])\n",
        "    sleep(data['cooldown'] + 1)\n",
        "\n",
        "  return data"
      ],
      "execution_count": 0,
      "outputs": []
    },
    {
      "cell_type": "code",
      "metadata": {
        "id": "haurMsefsig-",
        "colab_type": "code",
        "outputId": "4745c15c-7c1e-4288-e2c3-12f0b569a66b",
        "colab": {
          "base_uri": "https://localhost:8080/",
          "height": 235
        }
      },
      "source": [
        "data = get_init()\n",
        "data"
      ],
      "execution_count": 0,
      "outputs": [
        {
          "output_type": "execute_result",
          "data": {
            "text/plain": [
              "{'cooldown': 1.0,\n",
              " 'coordinates': '(66,55)',\n",
              " 'description': 'You are standing on grass and surrounded by a dense mist. You can barely make out the exits in any direction.',\n",
              " 'elevation': 0,\n",
              " 'errors': [],\n",
              " 'exits': ['e', 'w'],\n",
              " 'items': ['shiny treasure'],\n",
              " 'messages': [],\n",
              " 'players': [],\n",
              " 'room_id': 154,\n",
              " 'terrain': 'NORMAL',\n",
              " 'title': 'A misty room'}"
            ]
          },
          "metadata": {
            "tags": []
          },
          "execution_count": 28
        }
      ]
    },
    {
      "cell_type": "code",
      "metadata": {
        "id": "AYFgP5FbmTP0",
        "colab_type": "code",
        "outputId": "d4d6866a-5f4e-421f-aea7-01102f58c26a",
        "colab": {
          "base_uri": "https://localhost:8080/",
          "height": 235
        }
      },
      "source": [
        "move_to_location(data['room_id'], 154, data, map)"
      ],
      "execution_count": 0,
      "outputs": [
        {
          "output_type": "execute_result",
          "data": {
            "text/plain": [
              "{'cooldown': 1.0,\n",
              " 'coordinates': '(66,55)',\n",
              " 'description': 'You are standing on grass and surrounded by a dense mist. You can barely make out the exits in any direction.',\n",
              " 'elevation': 0,\n",
              " 'errors': [],\n",
              " 'exits': ['e', 'w'],\n",
              " 'items': ['shiny treasure'],\n",
              " 'messages': [],\n",
              " 'players': [],\n",
              " 'room_id': 154,\n",
              " 'terrain': 'NORMAL',\n",
              " 'title': 'A misty room'}"
            ]
          },
          "metadata": {
            "tags": []
          },
          "execution_count": 29
        }
      ]
    },
    {
      "cell_type": "code",
      "metadata": {
        "id": "U53WTdF84EgN",
        "colab_type": "code",
        "colab": {}
      },
      "source": [
        "def list_to_file(data, filename):\n",
        "  with open(filename, 'w') as filehandle:\n",
        "      for line in data:\n",
        "          filehandle.write('%s\\n' % line)"
      ],
      "execution_count": 0,
      "outputs": []
    },
    {
      "cell_type": "code",
      "metadata": {
        "id": "BFxT14RH3l-S",
        "colab_type": "code",
        "colab": {}
      },
      "source": [
        "def list_to_file(data, filename):\n",
        "    with open(filename, 'w') as filehandle:\n",
        "        for line in data:\n",
        "            filehandle.write('%s\\n' % line)\n",
        "\n",
        "\n",
        "def get_binary_from_well():\n",
        "    binary = examine({'name':'Wishing Well'})['description']\n",
        "    binary = binary.split('\\n')[2:]\n",
        "\n",
        "    list_to_file(binary, 'binary.txt')"
      ],
      "execution_count": 0,
      "outputs": []
    },
    {
      "cell_type": "code",
      "metadata": {
        "id": "NAv6tXWL9_ip",
        "colab_type": "code",
        "colab": {}
      },
      "source": [
        "import sys\n",
        "\n",
        "\n",
        "IM = 5  # R5 = interrupt mask (IM)\n",
        "IS = 6  # R6 = interrupt status (IS)\n",
        "SP = 7  # R7 = stack pointer (SP)\n",
        "\n",
        "FL_EQ = 0b001\n",
        "FL_GT = 0b010\n",
        "FL_LT = 0b100\n",
        "\n",
        "class CPU:\n",
        "    \"\"\"Main CPU class.\"\"\"\n",
        "\n",
        "    def __init__(self):\n",
        "        self.registers = [0b0] * 8  # Registers R0-R7\n",
        "        self.ram = [0] * 256\n",
        "\n",
        "        self.message = []\n",
        "        self.halted = False\n",
        "\n",
        "        self.pc = 0 # Program Counter, location of current instruction executing\n",
        "        self.fl = 0 # Flags\n",
        "        self.ir = None # Instruction Register, current instruction executing\n",
        "\n",
        "        self.ram = [0b0] * 0xFF\n",
        "        self.registers[SP] = 0xf4\n",
        "\n",
        "        self.OPCODES = {\n",
        "            0b01000111: 'PRN',\n",
        "            0b00000001: 'HLT',\n",
        "            0b10000010: 'LDI',\n",
        "            0b10100000: 'ADD',\n",
        "            0b10100010: 'MUL',\n",
        "            0b01000101: 'PUSH',\n",
        "            0b01000110: 'POP',\n",
        "            0b10000100: 'STOR',\n",
        "            0b01010000: 'CALL',\n",
        "            0b00010001: 'RET',\n",
        "            0b10100111: 'CMP',\n",
        "            0b01010100: 'JMP',\n",
        "            0b01010101: 'JEQ',\n",
        "            0b01010110: 'JNE',\n",
        "            0b01001000: 'PRA',\n",
        "        }\n",
        "\n",
        "    def load(self, filename):\n",
        "        \"\"\"Load a program into memory.\"\"\"\n",
        "        address = 0\n",
        "\n",
        "        try:\n",
        "            # Read in the program\n",
        "            with open(filename, 'r') as file:\n",
        "                lines = (line for line in file.readlines() \n",
        "                        if not (line[0]=='#' or line[0]=='\\n'))\n",
        "                program = [int(line.split('#')[0].strip(), 2) \n",
        "                          for line in lines]\n",
        "\n",
        "            for instruction in program:\n",
        "                self.ram[address] = instruction\n",
        "                address += 1\n",
        "        except FileNotFoundError as e:\n",
        "            print(e)\n",
        "            sys.exit()\n",
        "\n",
        "    def alu(self, op, reg_a, reg_b):\n",
        "        \"\"\"ALU operations.\"\"\"\n",
        "        if op == 'ADD':\n",
        "            self.registers[reg_a] += self.registers[reg_b]\n",
        "        elif op == 'SUB':\n",
        "            self.registers[reg_a] -= self.registers[reg_b]\n",
        "        elif op == 'MUL':\n",
        "            self.registers[reg_a] *= self.registers[reg_b]\n",
        "        elif op == 'DIV':\n",
        "            self.registers[reg_a] //= self.registers[reg_b]\n",
        "        elif op == 'CMP':\n",
        "            self.fl &= 0x11111000  # Clear flags\n",
        "            if self.registers[reg_a] < self.registers[reg_b]:\n",
        "                self.fl |= FL_LT\n",
        "            elif self.registers[reg_a] > self.registers[reg_b]:\n",
        "                self.fl |= FL_GT\n",
        "            else:\n",
        "                self.fl |= FL_EQ\n",
        "        else:\n",
        "            raise Exception(\"Unsupported ALU operation\")\n",
        "\n",
        "    def trace(self):\n",
        "        \"\"\"\n",
        "        Handy function to print out the CPU state. You might want to call this\n",
        "        from run() if you need help debugging.\n",
        "        \"\"\"\n",
        "        print(f\"TRACE: %02X | %02X %02X %02X |\" % (\n",
        "            self.pc,\n",
        "            self.fl,\n",
        "            self.ie,\n",
        "            self.ram_read(self.pc),\n",
        "            self.ram_read(self.pc + 1),\n",
        "            self.ram_read(self.pc + 2)\n",
        "        ), end='')\n",
        "\n",
        "        for i in range(8):\n",
        "            print(\" %02X\" % self.reg[i], end='')\n",
        "\n",
        "        print()\n",
        "\n",
        "    def ram_write(self, mdr, mar):\n",
        "        self.ram[mar] = mdr\n",
        "\n",
        "    def ram_read(self, mar):\n",
        "        return self.ram[mar]\n",
        "\n",
        "    def op_prn(self, r1):\n",
        "        val = self.registers[r1]\n",
        "        print(f'value: {val}')\n",
        "        self.pc += 2\n",
        "\n",
        "    def op_ldi(self, r1, r2):\n",
        "        self.registers[r1] = r2\n",
        "        self.pc += 3\n",
        "\n",
        "    def op_alu(self, op, r1, r2):\n",
        "        self.alu(op, r1, r2)\n",
        "        self.pc += 3\n",
        "\n",
        "    def op_push(self, r1):\n",
        "        val = self.registers[r1]\n",
        "        self.registers[SP] -= 1\n",
        "        self.ram_write(val, self.registers[SP])\n",
        "        self.pc += 2\n",
        "\n",
        "    def op_pop(self, r1):\n",
        "        val = self.ram_read(self.registers[SP])\n",
        "        self.registers[r1] = val\n",
        "        self.registers[SP] += 1\n",
        "        self.pc += 2\n",
        "\n",
        "    def op_call(self, r1):\n",
        "        self.registers[SP] -= 1\n",
        "        self.ram_write(self.pc + 2, self.registers[SP])\n",
        "        self.pc = self.registers[r1]\n",
        "\n",
        "    def op_ret(self):\n",
        "        val = self.ram_read(self.registers[SP])\n",
        "        self.pc = val\n",
        "        self.registers[SP] += 1\n",
        "\n",
        "    def op_jmp(self, r1):\n",
        "        self.pc = self.registers[r1]\n",
        "\n",
        "    def op_jeq(self, r1):\n",
        "        if self.fl & FL_EQ:\n",
        "            self.pc = self.registers[r1]\n",
        "        else:\n",
        "            self.pc += 2\n",
        "\n",
        "    def op_jne(self, r1):\n",
        "        if not self.fl & FL_EQ:\n",
        "            self.pc = self.registers[r1]\n",
        "        else:\n",
        "            self.pc += 2\n",
        "\n",
        "    def op_pra(self, r1):\n",
        "        self.message.append(chr(self.registers[r1]))\n",
        "        self.pc += 2\n",
        "\n",
        "    def run(self):\n",
        "        while not self.halted:\n",
        "            self.ir = self.ram[self.pc]\n",
        "            op = self.OPCODES[self.ir]\n",
        "            r1 = self.ram_read(self.pc + 1)\n",
        "            r2 = self.ram_read(self.pc + 2)\n",
        "\n",
        "            if op == 'LDI': # Save to Register\n",
        "                self.op_ldi(r1, r2)\n",
        "            elif op == 'PRN': # Print\n",
        "                self.op_prn(r1)\n",
        "            elif op in ['ADD', 'MUL', 'SUB', 'DIV', 'CMP']: # Math\n",
        "                self.op_alu(op, r1, r2)\n",
        "            elif op == 'PUSH': # Write to Stack\n",
        "                self.op_push(r1)\n",
        "            elif op == 'POP': # Pull from Stack\n",
        "                self.op_pop(r1)\n",
        "            elif op == 'CALL': # Call subroutine\n",
        "                self.op_call(r1)\n",
        "            elif op == 'RET':   # Return from subroutine\n",
        "                self.op_ret()\n",
        "            elif op == 'JMP': # Jump\n",
        "                self.op_jmp(r1)\n",
        "            elif op == 'JEQ': # Jump if equal\n",
        "                self.op_jeq(r1)\n",
        "            elif op == 'JNE': # Jump if not equal\n",
        "                self.op_jne(r1)\n",
        "            elif op == 'PRA':\n",
        "                self.op_pra(r1)\n",
        "            elif op == 'HLT': # Exit\n",
        "                self.halted = True\n",
        "                return self.message\n",
        "            else:\n",
        "                print(f'Unknown Operation: {op}')\n",
        "                self.halted = True"
      ],
      "execution_count": 0,
      "outputs": []
    },
    {
      "cell_type": "code",
      "metadata": {
        "id": "Dmgxm_LBtnde",
        "colab_type": "code",
        "outputId": "f2ed4e21-a96b-4ed9-e4c2-4d506393d88d",
        "colab": {
          "base_uri": "https://localhost:8080/",
          "height": 35
        }
      },
      "source": [
        "def translate_binary(filename):\n",
        "    cpu = CPU()\n",
        "    cpu.load(filename)\n",
        "    return ''.join(cpu.run())\n",
        "\n",
        "translate_binary('binary.txt')"
      ],
      "execution_count": 0,
      "outputs": [
        {
          "output_type": "execute_result",
          "data": {
            "text/plain": [
              "'Mine your coin in room 154'"
            ]
          },
          "metadata": {
            "tags": []
          },
          "execution_count": 33
        }
      ]
    },
    {
      "cell_type": "code",
      "metadata": {
        "id": "g-Z5jRZNIBgD",
        "colab_type": "code",
        "colab": {}
      },
      "source": [
        "def mine(proof):\n",
        "    response = requests.post(url_base[:-4] + 'bc/mine', headers=headers, json={\"proof\": proof})\n",
        "    status_code = response.status_code\n",
        "\n",
        "    if status_code is not 200:\n",
        "      return ('Unsuccessful Connection, Status Code:', status_code, response.json()['errors'])\n",
        "    return response.json()"
      ],
      "execution_count": 0,
      "outputs": []
    },
    {
      "cell_type": "code",
      "metadata": {
        "id": "pPICd0Hy-A2L",
        "colab_type": "code",
        "outputId": "3d6a71bc-41b4-4fea-f4e0-7e638c64168a",
        "colab": {
          "base_uri": "https://localhost:8080/",
          "height": 35
        }
      },
      "source": [
        "mine(999999999)"
      ],
      "execution_count": 0,
      "outputs": [
        {
          "output_type": "execute_result",
          "data": {
            "text/plain": [
              "('Unsuccessful Connection, Status Code:', 400, ['Invalid proof: +30s CD'])"
            ]
          },
          "metadata": {
            "tags": []
          },
          "execution_count": 98
        }
      ]
    },
    {
      "cell_type": "code",
      "metadata": {
        "id": "EQShLJq3FAIi",
        "colab_type": "code",
        "colab": {}
      },
      "source": [
        "def get_last_proof():\n",
        "    response = requests.get(url_base[:-4] + 'bc/last_proof', headers=headers)\n",
        "    status_code = response.status_code\n",
        "\n",
        "    if status_code is not 200:\n",
        "      return ('Unsuccessful Connection, Status Code:', status_code)\n",
        "    return response.json()"
      ],
      "execution_count": 0,
      "outputs": []
    },
    {
      "cell_type": "code",
      "metadata": {
        "id": "fuJSTJb-FYwq",
        "colab_type": "code",
        "outputId": "11a213f6-045d-4891-ed79-ac1278388aa4",
        "colab": {
          "base_uri": "https://localhost:8080/",
          "height": 108
        }
      },
      "source": [
        "data = get_last_proof()\n",
        "data"
      ],
      "execution_count": 0,
      "outputs": [
        {
          "output_type": "execute_result",
          "data": {
            "text/plain": [
              "{'cooldown': 1.0,\n",
              " 'difficulty': 6,\n",
              " 'errors': [],\n",
              " 'messages': [],\n",
              " 'proof': 9690227}"
            ]
          },
          "metadata": {
            "tags": []
          },
          "execution_count": 36
        }
      ]
    },
    {
      "cell_type": "code",
      "metadata": {
        "id": "I-n8ZwYY0ofw",
        "colab_type": "code",
        "outputId": "41290732-2bc3-43e6-d34f-540d93ec8256",
        "colab": {
          "base_uri": "https://localhost:8080/",
          "height": 72
        }
      },
      "source": [
        "proof = ''\n",
        "while proof == '':\n",
        "  proof = proof_of_work(data['proof'], data['difficulty'])\n",
        "proof"
      ],
      "execution_count": 0,
      "outputs": [
        {
          "output_type": "stream",
          "text": [
            "Searching for next proof\n",
            "Proof found: 785319023 in 17.482626156999913\n"
          ],
          "name": "stdout"
        },
        {
          "output_type": "execute_result",
          "data": {
            "text/plain": [
              "785319023"
            ]
          },
          "metadata": {
            "tags": []
          },
          "execution_count": 41
        }
      ]
    },
    {
      "cell_type": "code",
      "metadata": {
        "id": "tTAHXIE11OYV",
        "colab_type": "code",
        "outputId": "b0564907-c284-4747-b6c0-2865928fd2fa",
        "colab": {
          "base_uri": "https://localhost:8080/",
          "height": 35
        }
      },
      "source": [
        "valid_proof(data['proof'], proof, data['difficulty'])"
      ],
      "execution_count": 0,
      "outputs": [
        {
          "output_type": "execute_result",
          "data": {
            "text/plain": [
              "True"
            ]
          },
          "metadata": {
            "tags": []
          },
          "execution_count": 42
        }
      ]
    },
    {
      "cell_type": "code",
      "metadata": {
        "id": "9G8UrcOp5ZW-",
        "colab_type": "code",
        "outputId": "d53b979a-9716-4473-fb3d-9e15d2cf3810",
        "colab": {
          "base_uri": "https://localhost:8080/",
          "height": 235
        }
      },
      "source": [
        "mine(proof)"
      ],
      "execution_count": 0,
      "outputs": [
        {
          "output_type": "execute_result",
          "data": {
            "text/plain": [
              "{'cooldown': 1.0,\n",
              " 'coordinates': '(66,55)',\n",
              " 'description': 'You are standing on grass and surrounded by a dense mist. You can barely make out the exits in any direction.',\n",
              " 'elevation': 0,\n",
              " 'errors': [],\n",
              " 'exits': ['e', 'w'],\n",
              " 'items': ['shiny treasure'],\n",
              " 'messages': [],\n",
              " 'players': [],\n",
              " 'room_id': 154,\n",
              " 'terrain': 'NORMAL',\n",
              " 'title': 'A misty room'}"
            ]
          },
          "metadata": {
            "tags": []
          },
          "execution_count": 49
        }
      ]
    },
    {
      "cell_type": "code",
      "metadata": {
        "id": "vB2X7KDu1X4p",
        "colab_type": "code",
        "outputId": "342f015a-cce7-4ea7-96bd-44156fa50a99",
        "colab": {
          "base_uri": "https://localhost:8080/",
          "height": 128
        }
      },
      "source": [
        "message = []\n",
        "response = {'cooldown': -1}\n",
        "while message == []:\n",
        "  print('sleep:', response['cooldown']+1)\n",
        "  sleep(response['cooldown']+1)\n",
        "  data = get_last_proof()\n",
        "\n",
        "  proof = proof_of_work(data['proof'], data['difficulty'])\n",
        "  response = mine(proof)\n",
        "  print(response)\n",
        "  message = response['messages']"
      ],
      "execution_count": 0,
      "outputs": [
        {
          "output_type": "stream",
          "text": [
            "sleep: 0\n",
            "Searching for next proof\n",
            "Proof found: 453871009067 in 25.621530722000898\n",
            "{'name': 'Michael Bundick', 'description': 'Michael Bundick looks like an ordinary person.', 'cooldown': 115.0, 'errors': ['There is no coin here: +100s'], 'messages': []}\n",
            "sleep: 116.0\n"
          ],
          "name": "stdout"
        }
      ]
    },
    {
      "cell_type": "code",
      "metadata": {
        "id": "ja5a6yk55iHZ",
        "colab_type": "code",
        "outputId": "2955ee0f-b748-4449-a69d-052a6a3a48e1",
        "colab": {
          "base_uri": "https://localhost:8080/",
          "height": 72
        }
      },
      "source": [
        "get_balance()"
      ],
      "execution_count": 0,
      "outputs": [
        {
          "output_type": "execute_result",
          "data": {
            "text/plain": [
              "{'cooldown': 1.0,\n",
              " 'errors': [],\n",
              " 'messages': ['You have a balance of 1.0 Lambda Coins']}"
            ]
          },
          "metadata": {
            "tags": []
          },
          "execution_count": 80
        }
      ]
    },
    {
      "cell_type": "code",
      "metadata": {
        "id": "REJHwC2dAKOr",
        "colab_type": "code",
        "outputId": "94772f55-faa6-47f9-834f-d6193737a51b",
        "colab": {
          "base_uri": "https://localhost:8080/",
          "height": 235
        }
      },
      "source": [
        "get_init()"
      ],
      "execution_count": 0,
      "outputs": [
        {
          "output_type": "execute_result",
          "data": {
            "text/plain": [
              "{'cooldown': 1.0,\n",
              " 'coordinates': '(66,55)',\n",
              " 'description': 'You are standing on grass and surrounded by a dense mist. You can barely make out the exits in any direction.',\n",
              " 'elevation': 0,\n",
              " 'errors': [],\n",
              " 'exits': ['e', 'w'],\n",
              " 'items': ['shiny treasure'],\n",
              " 'messages': [],\n",
              " 'players': [],\n",
              " 'room_id': 154,\n",
              " 'terrain': 'NORMAL',\n",
              " 'title': 'A misty room'}"
            ]
          },
          "metadata": {
            "tags": []
          },
          "execution_count": 60
        }
      ]
    },
    {
      "cell_type": "code",
      "metadata": {
        "id": "JnkOrhfk1zVt",
        "colab_type": "code",
        "colab": {}
      },
      "source": [
        "def get_balance():\n",
        "  response = requests.get(url_base[:-4] + 'bc/get_balance', headers=headers)\n",
        "  status_code = response.status_code\n",
        "\n",
        "  if status_code is not 200:\n",
        "    return ('Unsuccessful Connection, Status Code:', status_code)\n",
        "  return response.json()"
      ],
      "execution_count": 0,
      "outputs": []
    },
    {
      "cell_type": "code",
      "metadata": {
        "id": "_WP5DIPm2Ebi",
        "colab_type": "code",
        "outputId": "d2c2ca5f-4914-4db9-aa04-ff15a4bd6351",
        "colab": {
          "base_uri": "https://localhost:8080/",
          "height": 72
        }
      },
      "source": [
        "get_balance()"
      ],
      "execution_count": 0,
      "outputs": [
        {
          "output_type": "execute_result",
          "data": {
            "text/plain": [
              "{'cooldown': 1.0,\n",
              " 'errors': [],\n",
              " 'messages': ['You have a balance of 1.0 Lambda Coins']}"
            ]
          },
          "metadata": {
            "tags": []
          },
          "execution_count": 46
        }
      ]
    },
    {
      "cell_type": "code",
      "metadata": {
        "id": "kS1ySguuEty8",
        "colab_type": "code",
        "colab": {}
      },
      "source": [
        "def treasure_hunt():\n",
        "  map = file_to_json('full_map.txt')\n",
        "  reverse = {'n': 's', 'e': 'w', 's': 'n', 'w': 'e'}\n",
        "  backtrack = []\n",
        "  data = get_init()\n",
        "  sleep(data['cooldown']+1)\n",
        "  rooms = make_blank_map()\n",
        "  inventory = get_status()['inventory']\n",
        "\n",
        "  while len(inventory) < 7:\n",
        "      current_room_id = data['room_id']\n",
        "      room_data = extract_room_info(data)\n",
        "\n",
        "      data = item_check(data)\n",
        "      exits = data['exits']\n",
        "      valid_moves = find_unvisited_directions(exits, rooms[current_room_id])\n",
        "\n",
        "      if valid_moves != []:\n",
        "          move = choice(valid_moves)\n",
        "          data = make_move({'direction': move,\n",
        "                            \"next_room_id\": str(map[str(current_room_id)][move])})\n",
        "          backtrack.append(reverse[move])\n",
        "          rooms[current_room_id][move] = data['room_id']\n",
        "          rooms[data['room_id']][reverse[move]] = current_room_id\n",
        "      else:\n",
        "          move = backtrack.pop(-1)\n",
        "          data = make_move({'direction': move,\n",
        "                            'next_room_id': str(map[str(current_room_id)][move])})\n",
        "\n",
        "      sleep(data['cooldown']+1)\n",
        "      inventory = get_status()['inventory']\n",
        "  return data"
      ],
      "execution_count": 0,
      "outputs": []
    },
    {
      "cell_type": "code",
      "metadata": {
        "id": "mQ-hWqsFMIao",
        "colab_type": "code",
        "colab": {}
      },
      "source": [
        "while get_status()['gold'] < 1000:\n",
        "  data = treasure_hunt()\n",
        "  data = move_to_location(data['room_id'], KEY_ROOMS['Shop'], data, map)\n",
        "  data = shop_check(data)\n",
        "\n",
        "data = move_to_location(data['room_id'], KEY_ROOMS[\"Pirate Ry's\"], data, map)\n",
        "# data = change_name('YOUR NAME HERE')\n",
        "data = move_to_location(data['room_id'], KEY_ROOMS['Wishing Well'], data, map)\n",
        "get_binary_from_well()\n",
        "mine_location = int(translate_binary('binary.txt')[-3:])\n",
        "data = move_to_location(data['room_id'], mine_location, data, map)"
      ],
      "execution_count": 0,
      "outputs": []
    },
    {
      "cell_type": "code",
      "metadata": {
        "id": "-jJDBhAEO4PE",
        "colab_type": "code",
        "colab": {}
      },
      "source": [
        "def proof_of_work(last_proof, difficulty):\n",
        "    start = timer()\n",
        "\n",
        "    print(\"Searching for next proof\")\n",
        "    proof = 0\n",
        "    attempts = 0\n",
        "    while valid_proof(last_proof, proof, difficulty) is False:\n",
        "        proof = random.randint(0, 999999999999)\n",
        "        attempts += 1\n",
        "\n",
        "    print(\"Proof found: \" + str(proof) + \" in \" + str(timer() - start))\n",
        "    return proof\n",
        "\n",
        "\n",
        "def valid_proof(last_proof, proof, difficulty):\n",
        "    guess = f'{last_proof}{proof}'.encode()\n",
        "    guess_hash = hashlib.sha256(guess).hexdigest()\n",
        "\n",
        "    if difficulty is not None:\n",
        "        leading_zeros = \"0\" * difficulty\n",
        "    else:\n",
        "        leading_zeros = \"0\" * 6\n",
        "    \n",
        "    return guess_hash[0:difficulty] == leading_zeros"
      ],
      "execution_count": 0,
      "outputs": []
    },
    {
      "cell_type": "code",
      "metadata": {
        "id": "NZzwiuZy0Yc7",
        "colab_type": "code",
        "colab": {}
      },
      "source": [
        ""
      ],
      "execution_count": 0,
      "outputs": []
    }
  ]
}